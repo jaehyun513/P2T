{
 "cells": [
  {
   "cell_type": "code",
   "execution_count": null,
   "metadata": {},
   "outputs": [],
   "source": [
    "import sklearn.datasets as datasets\n",
    "import numpy as np\n",
    "import pandas as pd\n",
    "import copy\n",
    "from sklearn.preprocessing import MinMaxScaler\n",
    "from tqdm import tqdm\n",
    "import openai\n",
    "import time\n",
    "\n",
    "openai.api_key = \"xxx\" ### Enter your openai key"
   ]
  },
  {
   "cell_type": "code",
   "execution_count": null,
   "metadata": {},
   "outputs": [],
   "source": [
    "dataset = datasets.fetch_openml(data_id = 1511)\n",
    "df = dataset['frame']\n",
    "df = df.dropna()\n",
    "df.head()"
   ]
  },
  {
   "cell_type": "code",
   "execution_count": null,
   "metadata": {},
   "outputs": [],
   "source": [
    "x = df.drop(['Channel', 'Region'], axis = 'columns')\n",
    "x = x.to_numpy()\n",
    "scaler = MinMaxScaler()\n",
    "scaler.fit(x)\n",
    "x = scaler.transform(x)\n",
    "y = df['Channel'].to_numpy()\n",
    "train_idx = np.load('data/train_idx.npy')\n",
    "test_idx = np.load('data/test_idx.npy')\n",
    "print(len(train_idx), len(test_idx))"
   ]
  },
  {
   "cell_type": "code",
   "execution_count": null,
   "metadata": {},
   "outputs": [],
   "source": [
    "df_npy = df.to_numpy()\n",
    "df_test = df_npy[test_idx]\n",
    "df_train = df_npy[train_idx]\n",
    "xtrain = x[train_idx]\n",
    "xtest = x[test_idx]"
   ]
  },
  {
   "cell_type": "code",
   "execution_count": null,
   "metadata": {},
   "outputs": [],
   "source": [
    "def question(shot_idx):\n",
    "    text = \"Read a given information and questions. Think step by step, and then then choose the most important feature to predict whether its value is class1 or class2. You must choose in [annual spending on fresh product, annual spending on milk products, annual spending on grocery products, annual spending on frozen products, annual spending on detergents and paper products, annual spending on delicatessen products, and customer’s region].\"\n",
    "    text += \"\\nThe dataset consists of 7 input variables: annual spending on fresh product, annual spending on milk products, annual spending on grocery products, annual spending on frozen products, annual spending on detergents and paper products, annual spending on delicatessen products, and customer’s region. The output variable is: Class1 indicates Horeca (Hotel, Restaurant, Cafe) channel, and class2 indicates Retail channel.\\n\"\n",
    "    \n",
    "    rand_perm = np.random.permutation(len(shot_idx))\n",
    "    shot_idx = shot_idx[rand_perm]\n",
    "    for i in shot_idx:\n",
    "        text += \"Question: If the\"\n",
    "        text += f\"annual spending on fresh product is {df_train[i][1]}, \"\n",
    "        text += f\"annual spending on milk products is {df_train[i][2]}, \"\n",
    "        text += f\"annual spending on grocery products is {df_train[i][3]}, \"\n",
    "        text += f\"annual spending on frozen products is {df_train[i][4]}, \"\n",
    "        text += f\"annual spending on detergents and paper products is {df_train[i][5]}, \"\n",
    "        text += f\"annual spending on delicatessen products is {df_train[i][6]}, \"\n",
    "        text += f\"customer’s region (1 indicates Lisbon, 2 indicates Porto, and 3 indicates Other) is {df_train[i][8]}, \"\n",
    "        text += f\"then what is the customer’s channel? Choose between [class1, class2]. Class1 indicates Horeca (Hotel, Restaurant, Cafe) channel, and class2 indicates Retail channel. Answer: class{df_train[i][7]}\\n\"\n",
    "            \n",
    "    text += \"Choose the most important feature to predict predict its value is class1 or class2. Answer:\"\n",
    "    return text"
   ]
  },
  {
   "cell_type": "code",
   "execution_count": null,
   "metadata": {},
   "outputs": [],
   "source": [
    "def use_api(prompt):\n",
    "    waiting_time = 0.5\n",
    "    response = None\n",
    "    while response is None:\n",
    "        try:\n",
    "            response = openai.ChatCompletion.create(\n",
    "                model = 'model_name', ### Enter your model name\n",
    "                messages = [{\"role\":\"user\", \"content\":prompt}]\n",
    "            )\n",
    "        except:\n",
    "            time.sleep(waiting_time)\n",
    "            if waiting_time < 5:\n",
    "                waiting_time += 0.5\n",
    "    return response[\"choices\"][0]['message']['content']"
   ]
  },
  {
   "cell_type": "code",
   "execution_count": null,
   "metadata": {},
   "outputs": [],
   "source": [
    "def ours(test_idx, shot_idx):\n",
    "    if len(shot_idx) > 0:\n",
    "        rand_perm = np.random.permutation(len(shot_idx))\n",
    "        shot_idx = shot_idx[rand_perm]\n",
    "        \n",
    "    unlabeled_idx = np.setdiff1d(range(len(xtrain)), shot_idx)\n",
    "    u_x = xtrain[unlabeled_idx]\n",
    "    \n",
    "    u_idx = []\n",
    "    for idx in shot_idx:\n",
    "        dist = (u_x - xtrain[idx])**2\n",
    "        dist = np.sum(dist, axis = 1)\n",
    "        tmp = np.argsort(dist)[:int(30/len(shot_idx))]\n",
    "        u_idx.append(tmp)\n",
    "    u_idx = np.concatenate(u_idx)\n",
    "    u_idx = unlabeled_idx[u_idx]\n",
    "    rand_perm = np.random.permutation(len(u_idx))\n",
    "    u_idx = u_idx[rand_perm]\n",
    "\n",
    "    text = \"Read a given information and questions. Think step by step, and then predict whether its value is class1 or class2. You must choose in [class1, class2]. Class1 indicates Horeca (Hotel, Restaurant, Cafe) channel, and class2 indicates Retail channel.\"\n",
    "    text += \"\\nThe dataset consists of 7 input variables: annual spending on fresh product, annual spending on milk products, annual spending on grocery products, annual spending on frozen products, annual spending on detergents and paper products, annual spending on delicatessen products, and customer’s region. The output variable is the customer’s channel.\\n\"\n",
    "\n",
    "    for i in u_idx:\n",
    "        text += \"Question: If the\"\n",
    "        text += f\"annual spending on fresh product is {df_train[i][1]}, \"\n",
    "        text += f\"annual spending on milk products is {df_train[i][2]}, \"\n",
    "        # text += f\"annual spending on grocery products is {df_train[i][3]}, \"\n",
    "        text += f\"annual spending on frozen products is {df_train[i][4]}, \"\n",
    "        text += f\"annual spending on detergents and paper products is {df_train[i][5]}, \"\n",
    "        text += f\"annual spending on delicatessen products is {df_train[i][6]}, \"\n",
    "        text += f\"customer’s region (1 indicates Lisbon, 2 indicates Porto, and 3 indicates Other) is {df_train[i][8]}, \"\n",
    "        text += f\"then what is the annual spending on grocery products. Answer: {df_train[i][3]}\\n\"\n",
    "\n",
    "    for i in shot_idx:\n",
    "        text += \"Question: If the\"\n",
    "        text += f\"annual spending on fresh product is {df_train[i][1]}, \"\n",
    "        text += f\"annual spending on milk products is {df_train[i][2]}, \"\n",
    "        text += f\"annual spending on grocery products is {df_train[i][3]}, \"\n",
    "        text += f\"annual spending on frozen products is {df_train[i][4]}, \"\n",
    "        text += f\"annual spending on detergents and paper products is {df_train[i][5]}, \"\n",
    "        text += f\"annual spending on delicatessen products is {df_train[i][6]}, \"\n",
    "        text += f\"customer’s region (1 indicates Lisbon, 2 indicates Porto, and 3 indicates Other) is {df_train[i][8]}, \"\n",
    "        text += f\"then what is the customer’s channel? Choose between [class1, class2]. Class1 indicates Horeca (Hotel, Restaurant, Cafe) channel, and class2 indicates Retail channel. Answer: class{df_train[i][7]}\\n\"\n",
    "\n",
    "    text += \"Question: If the\"\n",
    "    text += f\"annual spending on fresh product is {df_test[test_idx][1]}, \"\n",
    "    text += f\"annual spending on milk products is {df_test[test_idx][2]}, \"\n",
    "    text += f\"annual spending on grocery products is {df_test[test_idx][3]}, \"\n",
    "    text += f\"annual spending on frozen products is {df_test[test_idx][4]}, \"\n",
    "    text += f\"annual spending on detergents and paper products is {df_test[test_idx][5]}, \"\n",
    "    text += f\"annual spending on delicatessen products is {df_test[test_idx][6]}, \"\n",
    "    text += f\"customer’s region (1 indicates Lisbon, 2 indicates Porto, and 3 indicates Other) is {df_test[test_idx][8]}, \"\n",
    "    text += f\"then what is the customer’s channel? Choose between [class1, class2]. Class1 indicates Horeca (Hotel, Restaurant, Cafe) channel, and class2 indicates Retail channel. Answer:\"\n",
    "    return text"
   ]
  },
  {
   "cell_type": "code",
   "execution_count": null,
   "metadata": {},
   "outputs": [],
   "source": [
    "shot_idx = np.load('./data/labeled_idx.npy')"
   ]
  },
  {
   "attachments": {},
   "cell_type": "markdown",
   "metadata": {},
   "source": [
    "### Ours"
   ]
  },
  {
   "cell_type": "code",
   "execution_count": null,
   "metadata": {},
   "outputs": [],
   "source": [
    "response_list = []\n",
    "for i in tqdm(range(df_test.shape[0])):\n",
    "    response = use_api(ours(i, shot_idx))\n",
    "    response_list.append(response)"
   ]
  }
 ],
 "metadata": {
  "kernelspec": {
   "display_name": "Python 3",
   "language": "python",
   "name": "python3"
  },
  "language_info": {
   "codemirror_mode": {
    "name": "ipython",
    "version": 3
   },
   "file_extension": ".py",
   "mimetype": "text/x-python",
   "name": "python",
   "nbconvert_exporter": "python",
   "pygments_lexer": "ipython3",
   "version": "3.8.1"
  },
  "orig_nbformat": 4
 },
 "nbformat": 4,
 "nbformat_minor": 2
}
